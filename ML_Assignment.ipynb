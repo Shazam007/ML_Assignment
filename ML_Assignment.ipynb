{
  "nbformat": 4,
  "nbformat_minor": 0,
  "metadata": {
    "colab": {
      "name": "ML_Assignment.ipynb",
      "private_outputs": true,
      "provenance": [],
      "collapsed_sections": [
        "zKmwKPDwPkN2",
        "cJ8zlz92OrNt",
        "7aEAs_aAO2K1",
        "IeBAXf39O_Pu",
        "MoStCJ9_QIPt",
        "1t98ZbNGQPpN",
        "3HwLVI59Qik1",
        "19iWT6X8RDmV",
        "e6YgpsBsR5H2",
        "vc_BcexSURJi",
        "fFTLl6yYV3wl",
        "IBsHqAn8XodV"
      ],
      "authorship_tag": "ABX9TyM9I6ry/8DQZ+FRIwpeuGfN",
      "include_colab_link": true
    },
    "kernelspec": {
      "name": "python3",
      "display_name": "Python 3"
    },
    "language_info": {
      "name": "python"
    },
    "accelerator": "GPU"
  },
  "cells": [
    {
      "cell_type": "markdown",
      "metadata": {
        "id": "view-in-github",
        "colab_type": "text"
      },
      "source": [
        "<a href=\"https://colab.research.google.com/github/Shazam007/ML_Assignment/blob/main/ML_Assignment.ipynb\" target=\"_parent\"><img src=\"https://colab.research.google.com/assets/colab-badge.svg\" alt=\"Open In Colab\"/></a>"
      ]
    },
    {
      "cell_type": "markdown",
      "metadata": {
        "id": "N3W5PF8_OIfQ"
      },
      "source": [
        "# **Neural Style Transfer**"
      ]
    },
    {
      "cell_type": "markdown",
      "metadata": {
        "id": "zKmwKPDwPkN2"
      },
      "source": [
        "## **Dataset Import**"
      ]
    },
    {
      "cell_type": "markdown",
      "metadata": {
        "id": "cJ8zlz92OrNt"
      },
      "source": [
        "### Import Libraries"
      ]
    },
    {
      "cell_type": "code",
      "metadata": {
        "id": "aCQHAomgOFPd"
      },
      "source": [
        "try:\n",
        "  # %tensorflow_version only exists in Colab.\n",
        "  %tensorflow_version 2.x\n",
        "except Exception:\n",
        "  pass\n",
        "\n",
        "import tensorflow as tf\n",
        "\n",
        "import matplotlib.pyplot as plt\n",
        "import numpy as np\n",
        "from keras import backend as K\n",
        "\n",
        "from imageio import mimsave\n",
        "from IPython.display import display as display_fn\n",
        "from IPython.display import Image, clear_output"
      ],
      "execution_count": null,
      "outputs": []
    },
    {
      "cell_type": "markdown",
      "metadata": {
        "id": "7aEAs_aAO2K1"
      },
      "source": [
        "### Defining Necessary Functions"
      ]
    },
    {
      "cell_type": "code",
      "metadata": {
        "id": "xRDtw6xyO7gT"
      },
      "source": [
        "def tensor_to_image(tensor):\n",
        "  '''converts a tensor to an image'''\n",
        "  tensor_shape = tf.shape(tensor)\n",
        "  number_elem_shape = tf.shape(tensor_shape)\n",
        "  if number_elem_shape > 3:\n",
        "    assert tensor_shape[0] == 1\n",
        "    tensor = tensor[0]\n",
        "  return tf.keras.preprocessing.image.array_to_img(tensor) \n",
        "\n",
        "\n",
        "def load_img(path_to_img):\n",
        "  '''loads an image as a tensor and scales it to 512 pixels'''\n",
        "  max_dim = 512\n",
        "  image = tf.io.read_file(path_to_img)\n",
        "  image = tf.image.decode_jpeg(image)\n",
        "  image = tf.image.convert_image_dtype(image, tf.float32)\n",
        "\n",
        "  shape = tf.shape(image)[:-1]\n",
        "  shape = tf.cast(tf.shape(image)[:-1], tf.float32)\n",
        "  long_dim = max(shape)\n",
        "  scale = max_dim / long_dim\n",
        "\n",
        "  new_shape = tf.cast(shape * scale, tf.int32)\n",
        "\n",
        "  image = tf.image.resize(image, new_shape)\n",
        "  image = image[tf.newaxis, :]\n",
        "  image = tf.image.convert_image_dtype(image, tf.uint8)\n",
        "\n",
        "  return image\n",
        "\n",
        "\n",
        "def load_images(content_path, style_path):\n",
        "  '''loads the content and path images as tensors'''\n",
        "  content_image = load_img(\"{}\".format(content_path))\n",
        "  style_image = load_img(\"{}\".format(style_path))\n",
        "\n",
        "  return content_image, style_image\n",
        "\n",
        "\n",
        "def imshow(image, title=None):\n",
        "  '''displays an image with a corresponding title'''\n",
        "  if len(image.shape) > 3:\n",
        "    image = tf.squeeze(image, axis=0)\n",
        "\n",
        "  plt.imshow(image)\n",
        "  if title:\n",
        "    plt.title(title)\n",
        "    \n",
        "    \n",
        "def show_images_with_objects(images, titles=[]):\n",
        "  '''displays a row of images with corresponding titles'''\n",
        "  if len(images) != len(titles):\n",
        "    return\n",
        "\n",
        "  plt.figure(figsize=(20, 12))\n",
        "  for idx, (image, title) in enumerate(zip(images, titles)):\n",
        "    plt.subplot(1, len(images), idx + 1)\n",
        "    plt.xticks([])\n",
        "    plt.yticks([])\n",
        "    imshow(image, title)\n",
        "\n",
        "\n",
        "def display_gif(gif_path):\n",
        "  '''displays the generated images as an animated gif'''\n",
        "  with open(gif_path,'rb') as f:\n",
        "    display_fn(Image(data=f.read(), format='png'))\n",
        "\n",
        "\n",
        "def create_gif(gif_path, images):\n",
        "  '''creates animation of generated images'''\n",
        "  mimsave(gif_path, images, fps=1)\n",
        "  \n",
        "  return gif_path\n",
        "\n",
        "\n",
        "def clip_image_values(image, min_value=0.0, max_value=255.0):\n",
        "  '''clips the image pixel values by the given min and max'''\n",
        "  return tf.clip_by_value(image, clip_value_min=min_value, clip_value_max=max_value)\n",
        "\n",
        "\n",
        "def preprocess_image(image):\n",
        "  '''centers the pixel values of a given image to use with VGG-19'''\n",
        "  image = tf.cast(image, dtype=tf.float32)\n",
        "  image = tf.keras.applications.vgg19.preprocess_input(image)\n",
        "\n",
        "  return image\n"
      ],
      "execution_count": null,
      "outputs": []
    },
    {
      "cell_type": "markdown",
      "metadata": {
        "id": "IeBAXf39O_Pu"
      },
      "source": [
        "### Download Images"
      ]
    },
    {
      "cell_type": "code",
      "metadata": {
        "id": "O4wxZ_stPE-N"
      },
      "source": [
        "IMAGE_DIR = 'images'\n",
        "\n",
        "# create directory\n",
        "!mkdir {IMAGE_DIR}\n",
        "\n",
        "# download images to the directory you just created\n",
        "!wget -q -O ./images/content-bench.jpg https://raw.githubusercontent.com/Shazam007/ML_Assignment/main/images/content-bench.jpg\n",
        "!wget -q -O ./images/content-buckingham.jpg https://raw.githubusercontent.com/Shazam007/ML_Assignment/main/images/content-buckingham.jpg\n",
        "!wget -q -O ./images/content-city.jpg https://raw.githubusercontent.com/Shazam007/ML_Assignment/main/images/content-city.jpg\n",
        "!wget -q -O ./images/content-mountains.jpg https://raw.githubusercontent.com/Shazam007/ML_Assignment/main/images/content-mountains.jpg\n",
        "!wget -q -O ./images/content-women.jpg https://raw.githubusercontent.com/Shazam007/ML_Assignment/main/images/content-women.jpg\n",
        "!wget -q -O ./images/content-girl.jpg https://raw.githubusercontent.com/Shazam007/ML_Assignment/main/images/content-girl.jpg\n",
        "!wget -q -O ./images/content-monalisa.jpg https://raw.githubusercontent.com/Shazam007/ML_Assignment/main/images/content-monalisa.jpg\n",
        "!wget -q -O ./images/style-pattern.jpg https://raw.githubusercontent.com/Shazam007/ML_Assignment/main/images/style-pattern.jpg\n",
        "!wget -q -O ./images/style-sky.jpg https://raw.githubusercontent.com/Shazam007/ML_Assignment/main/images/style-sky.jpg\n",
        "!wget -q -O ./images/style-cartoon.jpg https://raw.githubusercontent.com/Shazam007/ML_Assignment/main/images/style-cartoon.jpg\n",
        "!wget -q -O ./images/style-city.jpg https://raw.githubusercontent.com/Shazam007/ML_Assignment/main/images/style-city.jpg\n",
        "!wget -q -O ./images/style-sky1.jpg https://raw.githubusercontent.com/Shazam007/ML_Assignment/main/images/style-sky1.jpg\n",
        "!wget -q -O ./images/style-sky2.jpg https://raw.githubusercontent.com/Shazam007/ML_Assignment/main/images/style-sky2.jpg\n",
        "!wget -q -O ./images/style-sky3.jpg https://raw.githubusercontent.com/Shazam007/ML_Assignment/main/images/style-sky3.jpg\n",
        "!wget -q -O ./images/style-trees.jpg https://raw.githubusercontent.com/Shazam007/ML_Assignment/main/images/style-trees.jpg\n",
        "!wget -q -O ./images/style-girl1.jpg https://raw.githubusercontent.com/Shazam007/ML_Assignment/main/images/style-girl1.jpg\n",
        "!wget -q -O ./images/style-girl3.jpg https://raw.githubusercontent.com/Shazam007/ML_Assignment/main/images/style-girl3.jpg\n",
        "!wget -q -O ./images/style-house.jpg https://raw.githubusercontent.com/Shazam007/ML_Assignment/main/images/style-house.jpg\n",
        "!wget -q -O ./images/style-guarnica.jpg https://raw.githubusercontent.com/Shazam007/ML_Assignment/main/images/style-guarnica.jpg\n",
        "\n",
        "\n",
        "print(\"image files you can choose from: \")\n",
        "!ls images"
      ],
      "execution_count": null,
      "outputs": []
    },
    {
      "cell_type": "markdown",
      "metadata": {
        "id": "Pjm1-abrPIjt"
      },
      "source": [
        "### Set Image Paths and Display"
      ]
    },
    {
      "cell_type": "code",
      "metadata": {
        "id": "n_HY4HNuPPz1"
      },
      "source": [
        "# set default images\n",
        "content_path = f'{IMAGE_DIR}/content-monalisa.jpg'\n",
        "style_path = f'{IMAGE_DIR}/style-guarnica.jpg'\n",
        "\n",
        "# display the content and style image\n",
        "content_image, style_image = load_images(content_path, style_path)\n",
        "show_images_with_objects([content_image, style_image], \n",
        "                         titles=[f'content image: {content_path}',\n",
        "                                 f'style image: {style_path}'])"
      ],
      "execution_count": null,
      "outputs": []
    },
    {
      "cell_type": "markdown",
      "metadata": {
        "id": "MoStCJ9_QIPt"
      },
      "source": [
        "## **Build The Model**"
      ]
    },
    {
      "cell_type": "markdown",
      "metadata": {
        "id": "1t98ZbNGQPpN"
      },
      "source": [
        "###Clear Previous Sessions and VGG19 model test"
      ]
    },
    {
      "cell_type": "code",
      "metadata": {
        "id": "HXWhMTSBQVet"
      },
      "source": [
        "# clear session to make layer naming consistent when re-running this cell\n",
        "K.clear_session()\n",
        "\n",
        "# download the vgg19 model and inspect the layers\n",
        "tmp_vgg = tf.keras.applications.vgg19.VGG19()\n",
        "tmp_vgg.summary()\n",
        "\n",
        "# delete temporary variable\n",
        "del tmp_vgg"
      ],
      "execution_count": null,
      "outputs": []
    },
    {
      "cell_type": "markdown",
      "metadata": {
        "id": "3HwLVI59Qik1"
      },
      "source": [
        "### Create VGG19 Style and Content Layer list"
      ]
    },
    {
      "cell_type": "code",
      "metadata": {
        "id": "hLcczrNYQvEG"
      },
      "source": [
        "# style layers of interest\n",
        "style_layers = ['block1_conv1', \n",
        "                'block2_conv1', \n",
        "                'block3_conv1', \n",
        "                'block4_conv1', \n",
        "                'block5_conv1'] \n",
        "\n",
        "# choose the content layer and put in a list\n",
        "content_layers = ['block5_conv2'] \n",
        "\n",
        "# combine the two lists (put the style layers before the content layers)\n",
        "output_layers = style_layers + content_layers \n",
        "\n",
        "# declare auxiliary variables holding the number of style and content layers\n",
        "NUM_CONTENT_LAYERS = len(content_layers)\n",
        "NUM_STYLE_LAYERS = len(style_layers)"
      ],
      "execution_count": null,
      "outputs": []
    },
    {
      "cell_type": "markdown",
      "metadata": {
        "id": "19iWT6X8RDmV"
      },
      "source": [
        "### Define VGG19 model function"
      ]
    },
    {
      "cell_type": "code",
      "metadata": {
        "id": "hoVnqhWyRJr3"
      },
      "source": [
        "def vgg_model(layer_names):\n",
        "  \"\"\" Creates a vgg model that outputs the style and content layer activations.\n",
        "  \n",
        "  Args:\n",
        "    layer_names: a list of strings, representing the names of the desired content and style layers\n",
        "    \n",
        "  Returns:\n",
        "    A model that takes the regular vgg19 input and outputs just the content and style layers.\n",
        "  \n",
        "  \"\"\"\n",
        "\n",
        "  # load the the pretrained VGG, trained on imagenet data\n",
        "  vgg = tf.keras.applications.vgg19.VGG19(include_top=False, weights='imagenet')\n",
        "\n",
        "  # freeze the weights of the model's layers (make them not trainable)\n",
        "  vgg.trainable = False\n",
        "  \n",
        "  # create a list of layer objects that are specified by layer_names\n",
        "  outputs = [vgg.get_layer(name).output for name in layer_names]\n",
        "\n",
        "  # create the model that outputs content and style layers only\n",
        "  model = tf.keras.Model(inputs=vgg.input, outputs=outputs)\n",
        "\n",
        "  return model"
      ],
      "execution_count": null,
      "outputs": []
    },
    {
      "cell_type": "markdown",
      "metadata": {
        "id": "kQwYTNuDRbAU"
      },
      "source": [
        "### Run VGG model"
      ]
    },
    {
      "cell_type": "code",
      "metadata": {
        "id": "SUwidxs2Rdrk"
      },
      "source": [
        "# clear session to make layer naming consistent if re-running the cell\n",
        "K.clear_session()\n",
        "\n",
        "# create a vgg-19 model\n",
        "vgg = vgg_model(output_layers)\n",
        "vgg.summary()"
      ],
      "execution_count": null,
      "outputs": []
    },
    {
      "cell_type": "markdown",
      "metadata": {
        "id": "e6YgpsBsR5H2"
      },
      "source": [
        "## **Define Loss Functions**"
      ]
    },
    {
      "cell_type": "markdown",
      "metadata": {
        "id": "YENPJQGoSBml"
      },
      "source": [
        "### Style Loss Calculation"
      ]
    },
    {
      "cell_type": "code",
      "metadata": {
        "id": "Thrilw8XSGa2"
      },
      "source": [
        "def get_style_loss(features, targets):\n",
        "  \"\"\"Expects two images of dimension h, w, c\n",
        "  \n",
        "  Args:\n",
        "    features: tensor with shape: (height, width, channels)\n",
        "    targets: tensor with shape: (height, width, channels)\n",
        "\n",
        "  Returns:\n",
        "    style loss (scalar)\n",
        "  \"\"\"\n",
        "  # get the average of the squared errors\n",
        "  style_loss = tf.reduce_mean(tf.square(features - targets))\n",
        "    \n",
        "  return style_loss"
      ],
      "execution_count": null,
      "outputs": []
    },
    {
      "cell_type": "markdown",
      "metadata": {
        "id": "n3jkfAnMSMFd"
      },
      "source": [
        "### Content Loss Claculation"
      ]
    },
    {
      "cell_type": "code",
      "metadata": {
        "id": "uA4bQJUmSW0d"
      },
      "source": [
        "def get_content_loss(features, targets):\n",
        "  \"\"\"Expects two images of dimension h, w, c\n",
        "  \n",
        "  Args:\n",
        "    features: tensor with shape: (height, width, channels)\n",
        "    targets: tensor with shape: (height, width, channels)\n",
        "  \n",
        "  Returns:\n",
        "    content loss (scalar)\n",
        "  \"\"\"\n",
        "  # get the sum of the squared error multiplied by a scaling factor\n",
        "  content_loss = 0.5 * tf.reduce_sum(tf.square(features - targets))\n",
        "    \n",
        "  return content_loss"
      ],
      "execution_count": null,
      "outputs": []
    },
    {
      "cell_type": "markdown",
      "metadata": {
        "id": "YZkUKMXqSewY"
      },
      "source": [
        "### Gram Matrix with einsum Function"
      ]
    },
    {
      "cell_type": "code",
      "metadata": {
        "id": "FjLaMpFqSoib"
      },
      "source": [
        "def gram_matrix(input_tensor):\n",
        "  \"\"\" Calculates the gram matrix and divides by the number of locations\n",
        "  Args:\n",
        "    input_tensor: tensor of shape (batch, height, width, channels)\n",
        "    \n",
        "  Returns:\n",
        "    scaled_gram: gram matrix divided by the number of locations\n",
        "  \"\"\"\n",
        "\n",
        "  # calculate the gram matrix of the input tensor\n",
        "  gram = tf.linalg.einsum('bijc,bijd->bcd', input_tensor, input_tensor) \n",
        "\n",
        "  # get the height and width of the input tensor\n",
        "  input_shape = tf.shape(input_tensor) \n",
        "  height = input_shape[1] \n",
        "  width = input_shape[2] \n",
        "\n",
        "  # get the number of locations (height times width), and cast it as a tf.float32\n",
        "  num_locations = tf.cast(height * width, tf.float32)\n",
        "\n",
        "  # scale the gram matrix by dividing by the number of locations\n",
        "  scaled_gram = gram / num_locations\n",
        "    \n",
        "  return scaled_gram"
      ],
      "execution_count": null,
      "outputs": []
    },
    {
      "cell_type": "markdown",
      "metadata": {
        "id": "Hdn390IDTQhV"
      },
      "source": [
        "### Get Style Image Features with Gram Matrix"
      ]
    },
    {
      "cell_type": "code",
      "metadata": {
        "id": "kpkmhnCkTnI9"
      },
      "source": [
        "def get_style_image_features(image):  \n",
        "  \"\"\" Get the style image features\n",
        "  \n",
        "  Args:\n",
        "    image: an input image\n",
        "    \n",
        "  Returns:\n",
        "    gram_style_features: the style features as gram matrices\n",
        "  \"\"\"\n",
        "  # preprocess the image using the given preprocessing function\n",
        "  preprocessed_style_image = preprocess_image(image) \n",
        "\n",
        "  # get the outputs from the custom vgg model that you created using vgg_model()\n",
        "  outputs = vgg(preprocessed_style_image) \n",
        "\n",
        "  # Get just the style feature layers (exclude the content layer)\n",
        "  style_outputs = outputs[:NUM_STYLE_LAYERS] \n",
        "\n",
        "  # for each style layer, calculate the gram matrix for that layer and store these results in a list\n",
        "  gram_style_features = [gram_matrix(style_layer) for style_layer in style_outputs] \n",
        "\n",
        "  return gram_style_features"
      ],
      "execution_count": null,
      "outputs": []
    },
    {
      "cell_type": "markdown",
      "metadata": {
        "id": "HQfQEu45TqDj"
      },
      "source": [
        "### Get Content image features"
      ]
    },
    {
      "cell_type": "code",
      "metadata": {
        "id": "XskhPaVwTuWN"
      },
      "source": [
        "def get_content_image_features(image):\n",
        "  \"\"\" Get the content image features\n",
        "  \n",
        "  Args:\n",
        "    image: an input image\n",
        "    \n",
        "  Returns:\n",
        "    content_outputs: the content features of the image\n",
        "  \"\"\"\n",
        "  # preprocess the image\n",
        "  preprocessed_content_image = preprocess_image(image)\n",
        "    \n",
        "  # get the outputs from the vgg model\n",
        "  outputs = vgg(preprocessed_content_image) \n",
        "\n",
        "  # get the content layers of the outputs\n",
        "  content_outputs = outputs[NUM_STYLE_LAYERS:]\n",
        "\n",
        "  # return the content layer outputs of the content image\n",
        "  return content_outputs"
      ],
      "execution_count": null,
      "outputs": []
    },
    {
      "cell_type": "markdown",
      "metadata": {
        "id": "gvXaGNvXTvOl"
      },
      "source": [
        "### Total Loss Calculation"
      ]
    },
    {
      "cell_type": "code",
      "metadata": {
        "id": "JVlr0_vkUD81"
      },
      "source": [
        "def get_style_content_loss(style_targets, style_outputs, content_targets, \n",
        "                           content_outputs, style_weight, content_weight):\n",
        "  \"\"\" Combine the style and content loss\n",
        "  \n",
        "  Args:\n",
        "    style_targets: style features of the style image\n",
        "    style_outputs: style features of the generated image\n",
        "    content_targets: content features of the content image\n",
        "    content_outputs: content features of the generated image\n",
        "    style_weight: weight given to the style loss\n",
        "    content_weight: weight given to the content loss\n",
        "\n",
        "  Returns:\n",
        "    total_loss: the combined style and content loss\n",
        "\n",
        "  \"\"\"\n",
        "    \n",
        "  # sum of the style losses\n",
        "  style_loss = tf.add_n([ get_style_loss(style_output, style_target)\n",
        "                           for style_output, style_target in zip(style_outputs, style_targets)])\n",
        "  \n",
        "  # Sum up the content losses\n",
        "  content_loss = tf.add_n([get_content_loss(content_output, content_target)\n",
        "                           for content_output, content_target in zip(content_outputs, content_targets)])\n",
        "\n",
        "  # scale the style loss by multiplying by the style weight and dividing by the number of style layers\n",
        "  style_loss = style_loss * style_weight / NUM_STYLE_LAYERS \n",
        "\n",
        "  # scale the content loss by multiplying by the content weight and dividing by the number of content layers\n",
        "  content_loss = content_loss * content_weight / NUM_CONTENT_LAYERS \n",
        "    \n",
        "  # sum up the style and content losses\n",
        "  total_loss = style_loss + content_loss \n",
        "\n",
        "  return total_loss"
      ],
      "execution_count": null,
      "outputs": []
    },
    {
      "cell_type": "markdown",
      "metadata": {
        "id": "vc_BcexSURJi"
      },
      "source": [
        "## **Generate Stylized Image**"
      ]
    },
    {
      "cell_type": "markdown",
      "metadata": {
        "id": "K86HPPq4UY61"
      },
      "source": [
        "### Calculate Gradients"
      ]
    },
    {
      "cell_type": "code",
      "metadata": {
        "id": "sC2G72ktUXac"
      },
      "source": [
        "def calculate_gradients(image, style_targets, content_targets, \n",
        "                        style_weight, content_weight, var_weight):\n",
        "  \"\"\" Calculate the gradients of the loss with respect to the generated image\n",
        "  Args:\n",
        "    image: generated image\n",
        "    style_targets: style features of the style image\n",
        "    content_targets: content features of the content image\n",
        "    style_weight: weight given to the style loss\n",
        "    content_weight: weight given to the content loss\n",
        "    var_weight: weight given to the total variation loss\n",
        "  \n",
        "  Returns:\n",
        "    gradients: gradients of the loss with respect to the input image\n",
        "  \"\"\"\n",
        "  with tf.GradientTape() as tape:\n",
        "      \n",
        "    # get the style image features\n",
        "    style_features = get_style_image_features(image) \n",
        "      \n",
        "    # get the content image features\n",
        "    content_features = get_content_image_features(image) \n",
        "      \n",
        "    # get the style and content loss\n",
        "    loss = get_style_content_loss(style_targets, style_features, content_targets, \n",
        "                                  content_features, style_weight, content_weight) \n",
        "\n",
        "  # calculate gradients of loss with respect to the image\n",
        "  gradients = tape.gradient(loss, image) \n",
        "\n",
        "  return gradients"
      ],
      "execution_count": null,
      "outputs": []
    },
    {
      "cell_type": "markdown",
      "metadata": {
        "id": "zHFicEQzU19t"
      },
      "source": [
        "### Apply gradients using optimizer"
      ]
    },
    {
      "cell_type": "code",
      "metadata": {
        "id": "SftfZU7rU8F-"
      },
      "source": [
        "def update_image_with_style(image, style_targets, content_targets, style_weight, \n",
        "                            var_weight, content_weight, optimizer):\n",
        "  \"\"\"\n",
        "  Args:\n",
        "    image: generated image\n",
        "    style_targets: style features of the style image\n",
        "    content_targets: content features of the content image\n",
        "    style_weight: weight given to the style loss\n",
        "    content_weight: weight given to the content loss\n",
        "    var_weight: weight given to the total variation loss\n",
        "    optimizer: optimizer for updating the input image\n",
        "  \"\"\"\n",
        "\n",
        "  # calculate gradients using the function that you just defined.\n",
        "  gradients = calculate_gradients(image, style_targets, content_targets, \n",
        "                                  style_weight, content_weight, var_weight) \n",
        "\n",
        "  # apply the gradients to the given image\n",
        "  optimizer.apply_gradients([(gradients, image)]) \n",
        "\n",
        "  # clip the image using the utility clip_image_values() function\n",
        "  image.assign(clip_image_values(image, min_value=0.0, max_value=255.0))"
      ],
      "execution_count": null,
      "outputs": []
    },
    {
      "cell_type": "markdown",
      "metadata": {
        "id": "cUdbvmyTU8yE"
      },
      "source": [
        "### Style transfer function declaration"
      ]
    },
    {
      "cell_type": "code",
      "metadata": {
        "id": "YTRa2bL2VKX9"
      },
      "source": [
        "def fit_style_transfer(style_image, content_image, style_weight=1e-2, content_weight=1e-4, \n",
        "                       var_weight=0, optimizer='adam', epochs=1, steps_per_epoch=1):\n",
        "  \"\"\" Performs neural style transfer.\n",
        "  Args:\n",
        "    style_image: image to get style features from\n",
        "    content_image: image to stylize \n",
        "    style_targets: style features of the style image\n",
        "    content_targets: content features of the content image\n",
        "    style_weight: weight given to the style loss\n",
        "    content_weight: weight given to the content loss\n",
        "    var_weight: weight given to the total variation loss\n",
        "    optimizer: optimizer for updating the input image\n",
        "    epochs: number of epochs\n",
        "    steps_per_epoch = steps per epoch\n",
        "  \n",
        "  Returns:\n",
        "    generated_image: generated image at final epoch\n",
        "    images: collection of generated images per epoch  \n",
        "  \"\"\"\n",
        "\n",
        "  images = []\n",
        "  step = 0\n",
        "\n",
        "  # get the style image features \n",
        "  style_targets = get_style_image_features(style_image)\n",
        "    \n",
        "  # get the content image features\n",
        "  content_targets = get_content_image_features(content_image)\n",
        "\n",
        "  # initialize the generated image for updates\n",
        "  generated_image = tf.cast(content_image, dtype=tf.float32)\n",
        "  generated_image = tf.Variable(generated_image) \n",
        "  \n",
        "  # collect the image updates starting from the content image\n",
        "  images.append(content_image)\n",
        "  \n",
        "  # incrementally update the content image with the style features\n",
        "  for n in range(epochs):\n",
        "    for m in range(steps_per_epoch):\n",
        "      step += 1\n",
        "    \n",
        "      # Update the image with the style using the function that you defined\n",
        "      update_image_with_style(generated_image, style_targets, content_targets, \n",
        "                              style_weight, content_weight, var_weight, optimizer) \n",
        "    \n",
        "      print(\".\", end='')\n",
        "\n",
        "      if (m + 1) % 10 == 0:\n",
        "        images.append(generated_image)\n",
        "    \n",
        "    # display the current stylized image\n",
        "    clear_output(wait=True)\n",
        "    display_image = tensor_to_image(generated_image)\n",
        "    display_fn(display_image)\n",
        "\n",
        "    # append to the image collection for visualization later\n",
        "    images.append(generated_image)\n",
        "    print(\"Train step: {}\".format(step))\n",
        "  \n",
        "  # convert to uint8 (expected dtype for images with pixels in the range [0,255])\n",
        "  generated_image = tf.cast(generated_image, dtype=tf.uint8)\n",
        "\n",
        "  return generated_image, images"
      ],
      "execution_count": null,
      "outputs": []
    },
    {
      "cell_type": "markdown",
      "metadata": {
        "id": "LKfUDgXfVL9M"
      },
      "source": [
        "### Run the Neural Style Transfer"
      ]
    },
    {
      "cell_type": "code",
      "metadata": {
        "id": "sUkyMhSuVYO9"
      },
      "source": [
        "# define style and content weight\n",
        "style_weight =  1e-4\n",
        "content_weight = 1e-32 \n",
        "\n",
        "# define optimizer. learning rate decreases per epoch.\n",
        "adam = tf.optimizers.Adam(\n",
        "    tf.keras.optimizers.schedules.ExponentialDecay(\n",
        "        initial_learning_rate=30.0, decay_steps=100, decay_rate=0.80\n",
        "    )\n",
        ")\n",
        "\n",
        "# start the neural style transfer\n",
        "stylized_image, display_images = fit_style_transfer(style_image=style_image, content_image=content_image, \n",
        "                                                    style_weight=style_weight, content_weight=content_weight,\n",
        "                                                    var_weight=0, optimizer=adam, epochs=70, steps_per_epoch=100)"
      ],
      "execution_count": null,
      "outputs": []
    },
    {
      "cell_type": "markdown",
      "metadata": {
        "id": "IRs93igYVlRa"
      },
      "source": [
        "## **Optimize More**"
      ]
    },
    {
      "cell_type": "markdown",
      "metadata": {
        "id": "fFTLl6yYV3wl"
      },
      "source": [
        "### **Total Variation Loss** instead of total loss"
      ]
    },
    {
      "cell_type": "code",
      "metadata": {
        "id": "RR7sOoikWBzT"
      },
      "source": [
        "# Plot Utilities\n",
        "\n",
        "def high_pass_x_y(image):\n",
        "  x_var = image[:,:,1:,:] - image[:,:,:-1,:]\n",
        "  y_var = image[:,1:,:,:] - image[:,:-1,:,:]\n",
        "\n",
        "  return x_var, y_var\n",
        "\n",
        "\n",
        "def plot_deltas_for_single_image(x_deltas, y_deltas, name=\"Original\", row=1):\n",
        "  plt.figure(figsize=(14,10))\n",
        "  plt.subplot(row,2,1)\n",
        "  plt.yticks([])\n",
        "  plt.xticks([])\n",
        "\n",
        "  clipped_y_deltas = clip_image_values(2*y_deltas+0.5, min_value=0.0, max_value=1.0)\n",
        "  imshow(clipped_y_deltas, \"Horizontal Deltas: {}\".format(name))\n",
        "\n",
        "  plt.subplot(row,2,2)\n",
        "  plt.yticks([])\n",
        "  plt.xticks([])\n",
        "  \n",
        "  clipped_x_deltas = clip_image_values(2*x_deltas+0.5, min_value=0.0, max_value=1.0)\n",
        "  imshow(clipped_x_deltas, \"Vertical Deltas: {}\".format(name))\n",
        "\n",
        "\n",
        "def plot_deltas(original_image_deltas, stylized_image_deltas):\n",
        "  orig_x_deltas, orig_y_deltas = original_image_deltas\n",
        "  \n",
        "  stylized_x_deltas, stylized_y_deltas = stylized_image_deltas\n",
        "\n",
        "  plot_deltas_for_single_image(orig_x_deltas, orig_y_deltas, name=\"Original\")\n",
        "  plot_deltas_for_single_image(stylized_x_deltas, stylized_y_deltas, name=\"Stylized Image\", row=2)"
      ],
      "execution_count": null,
      "outputs": []
    },
    {
      "cell_type": "markdown",
      "metadata": {
        "id": "UUQdlB7iWNTN"
      },
      "source": [
        "### Recalculate Gradients with Total variation Loss"
      ]
    },
    {
      "cell_type": "code",
      "metadata": {
        "id": "JzvMtfKcWUyc"
      },
      "source": [
        "def calculate_gradients(image, style_targets, content_targets, \n",
        "                        style_weight, content_weight, var_weight):\n",
        "  \"\"\" Calculate the gradients of the loss with respect to the generated image\n",
        "  Args:\n",
        "    image: generated image\n",
        "    style_targets: style features of the style image\n",
        "    content_targets: content features of the content image\n",
        "    style_weight: weight given to the style loss\n",
        "    content_weight: weight given to the content loss\n",
        "    var_weight: weight given to the total variation loss\n",
        "  \n",
        "  Returns:\n",
        "    gradients: gradients of the loss with respect to the input image\n",
        "  \"\"\"\n",
        "  with tf.GradientTape() as tape:\n",
        "      \n",
        "    # get the style image features\n",
        "    style_features = get_style_image_features(image) \n",
        "      \n",
        "    # get the content image features\n",
        "    content_features = get_content_image_features(image) \n",
        "      \n",
        "    # get the style and content loss\n",
        "    loss = get_style_content_loss(style_targets, style_features, content_targets, \n",
        "                                  content_features, style_weight, content_weight) \n",
        "\n",
        "    # add the total variation loss\n",
        "    loss += var_weight*tf.image.total_variation(image)\n",
        "\n",
        "  # calculate gradients of loss with respect to the image\n",
        "  gradients = tape.gradient(loss, image) \n",
        "\n",
        "  return gradients"
      ],
      "execution_count": null,
      "outputs": []
    },
    {
      "cell_type": "markdown",
      "metadata": {
        "id": "v6Sd1oFVWgjs"
      },
      "source": [
        "### Optimizer re-running"
      ]
    },
    {
      "cell_type": "code",
      "metadata": {
        "id": "xKuSN2mBWj89"
      },
      "source": [
        "style_weight =  1e-4\n",
        "content_weight = 1e-32\n",
        "var_weight = 1e-2\n",
        "\n",
        "adam = tf.optimizers.Adam(\n",
        "    tf.keras.optimizers.schedules.ExponentialDecay(\n",
        "        initial_learning_rate=30.0, decay_steps=100, decay_rate=0.90\n",
        "    )\n",
        ")\n",
        "\n",
        "stylized_image_reg, display_images_reg = fit_style_transfer(style_image=style_image, content_image=content_image, \n",
        "                                                    style_weight=style_weight, content_weight=content_weight,\n",
        "                                                    var_weight=var_weight, optimizer=adam, epochs=70, steps_per_epoch=100)"
      ],
      "execution_count": null,
      "outputs": []
    },
    {
      "cell_type": "markdown",
      "metadata": {
        "id": "karlg6KbWt57"
      },
      "source": [
        "## **Compare Results**"
      ]
    },
    {
      "cell_type": "markdown",
      "metadata": {
        "id": "INwSV8ExW7nM"
      },
      "source": [
        "### Before optimization"
      ]
    },
    {
      "cell_type": "code",
      "metadata": {
        "id": "hhmeIt1DXA5_"
      },
      "source": [
        "show_images_with_objects([style_image, content_image, stylized_image], titles=['Style Image', 'Content Image', 'Stylized Image'])"
      ],
      "execution_count": null,
      "outputs": []
    },
    {
      "cell_type": "markdown",
      "metadata": {
        "id": "PTQR6c-lXBs8"
      },
      "source": [
        "### After Optimization"
      ]
    },
    {
      "cell_type": "code",
      "metadata": {
        "id": "HBHzUUNcXGY9"
      },
      "source": [
        "show_images_with_objects([style_image, content_image, stylized_image_reg], titles=['Style Image', 'Content Image', 'Stylized Image with Regularization'])"
      ],
      "execution_count": null,
      "outputs": []
    },
    {
      "cell_type": "markdown",
      "metadata": {
        "id": "IBsHqAn8XodV"
      },
      "source": [
        "## **Save the Results**"
      ]
    },
    {
      "cell_type": "code",
      "metadata": {
        "id": "96OeXd8-Xx1s"
      },
      "source": [
        "file_name = 'stylized-image-optimized.png'\n",
        "tensor_to_image(stylized_image_reg).save(file_name)\n",
        "\n",
        "try:\n",
        "  from google.colab import files\n",
        "except ImportError:\n",
        "   pass\n",
        "else:\n",
        "  files.download(file_name)"
      ],
      "execution_count": null,
      "outputs": []
    },
    {
      "cell_type": "code",
      "metadata": {
        "id": "4hckheeDfhL1"
      },
      "source": [
        "file_name = 'stylized-image.png'\n",
        "tensor_to_image(stylized_image).save(file_name)\n",
        "\n",
        "try:\n",
        "  from google.colab import files\n",
        "except ImportError:\n",
        "   pass\n",
        "else:\n",
        "  files.download(file_name)"
      ],
      "execution_count": null,
      "outputs": []
    }
  ]
}